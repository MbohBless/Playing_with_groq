{
  "nbformat": 4,
  "nbformat_minor": 0,
  "metadata": {
    "colab": {
      "provenance": [],
      "authorship_tag": "ABX9TyPxXha47JGfskwakdNvrChn",
      "include_colab_link": true
    },
    "kernelspec": {
      "name": "python3",
      "display_name": "Python 3"
    },
    "language_info": {
      "name": "python"
    }
  },
  "cells": [
    {
      "cell_type": "markdown",
      "metadata": {
        "id": "view-in-github",
        "colab_type": "text"
      },
      "source": [
        "<a href=\"https://colab.research.google.com/github/MbohBless/Playing_with_groq/blob/main/NL2SQL.ipynb\" target=\"_parent\"><img src=\"https://colab.research.google.com/assets/colab-badge.svg\" alt=\"Open In Colab\"/></a>"
      ]
    },
    {
      "cell_type": "code",
      "execution_count": 1,
      "metadata": {
        "colab": {
          "base_uri": "https://localhost:8080/"
        },
        "id": "urLeBeJ-gJDa",
        "outputId": "0b1d832f-7793-476b-f491-4938a751e980"
      },
      "outputs": [
        {
          "output_type": "stream",
          "name": "stdout",
          "text": [
            "\u001b[2K     \u001b[90m━━━━━━━━━━━━━━━━━━━━━━━━━━━━━━━━━━━━━━━━\u001b[0m \u001b[32m103.5/103.5 kB\u001b[0m \u001b[31m1.1 MB/s\u001b[0m eta \u001b[36m0:00:00\u001b[0m\n",
            "\u001b[2K     \u001b[90m━━━━━━━━━━━━━━━━━━━━━━━━━━━━━━━━━━━━━━━━\u001b[0m \u001b[32m75.6/75.6 kB\u001b[0m \u001b[31m2.4 MB/s\u001b[0m eta \u001b[36m0:00:00\u001b[0m\n",
            "\u001b[2K     \u001b[90m━━━━━━━━━━━━━━━━━━━━━━━━━━━━━━━━━━━━━━━━\u001b[0m \u001b[32m77.9/77.9 kB\u001b[0m \u001b[31m5.0 MB/s\u001b[0m eta \u001b[36m0:00:00\u001b[0m\n",
            "\u001b[2K     \u001b[90m━━━━━━━━━━━━━━━━━━━━━━━━━━━━━━━━━━━━━━━━\u001b[0m \u001b[32m58.3/58.3 kB\u001b[0m \u001b[31m5.1 MB/s\u001b[0m eta \u001b[36m0:00:00\u001b[0m\n",
            "\u001b[?25h"
          ]
        }
      ],
      "source": [
        "%pip install -q groq\n",
        "%pip install -q duckdb\n",
        "%pip install -q sqlparse"
      ]
    },
    {
      "cell_type": "code",
      "source": [
        "import os\n",
        "import duckdb\n",
        "import groq\n",
        "import sqlparse\n",
        "import json\n",
        "from typing import Dict, Any, List"
      ],
      "metadata": {
        "id": "1XOrTDlxiVx8"
      },
      "execution_count": 2,
      "outputs": []
    },
    {
      "cell_type": "code",
      "source": [
        "def chat_with_groq(client:groq.Groq,\n",
        "                   prompt:str,\n",
        "                   model:str,\n",
        "                   response_format: Dict[str, str]\n",
        "                   )-> str:\n",
        "                   \"\"\"\n",
        "                   The function here works for the prompting the model for the qroq based model with natural language to\n",
        "                   geegnrate the appropriate SQL query for the provided data and prompt. So with this output, can then be used to create proper\n",
        "                   SQL queries and aggregation\n",
        "\n",
        "                   Args:\n",
        "                   client: This represents the Groq client which will be used top perform the conversion of the natural language to SQL.\n",
        "                   prompt: Bases on the user message provided, the prompt will then be converted to SQL for future use for the data querying.\n",
        "                   model: The Model here represents the based open source model that is used to make the query on. examples include llama3-70b-8192 or llama3-8b-8192 find out more here https://console.groq.com/docs/models\n",
        "                   response_format: As model has the possibility of supporting JSON and MD outputs, this is a dictionary which specifies the\n",
        "                   \"\"\""
      ],
      "metadata": {
        "id": "e8IWqIY6idDd"
      },
      "execution_count": null,
      "outputs": []
    }
  ]
}