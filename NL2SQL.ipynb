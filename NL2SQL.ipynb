{
  "cells": [
    {
      "cell_type": "markdown",
      "metadata": {
        "id": "view-in-github",
        "colab_type": "text"
      },
      "source": [
        "<a href=\"https://colab.research.google.com/github/MbohBless/Playing_with_groq/blob/main/NL2SQL.ipynb\" target=\"_parent\"><img src=\"https://colab.research.google.com/assets/colab-badge.svg\" alt=\"Open In Colab\"/></a>"
      ]
    },
    {
      "cell_type": "code",
      "execution_count": 2,
      "metadata": {
        "colab": {
          "base_uri": "https://localhost:8080/"
        },
        "id": "urLeBeJ-gJDa",
        "outputId": "33ee4836-dd39-47dc-ce95-0a236f17b96f"
      },
      "outputs": [
        {
          "output_type": "stream",
          "name": "stdout",
          "text": [
            "\u001b[2K     \u001b[90m━━━━━━━━━━━━━━━━━━━━━━━━━━━━━━━━━━━━━━━━\u001b[0m \u001b[32m103.5/103.5 kB\u001b[0m \u001b[31m1.1 MB/s\u001b[0m eta \u001b[36m0:00:00\u001b[0m\n",
            "\u001b[2K     \u001b[90m━━━━━━━━━━━━━━━━━━━━━━━━━━━━━━━━━━━━━━━━\u001b[0m \u001b[32m75.6/75.6 kB\u001b[0m \u001b[31m4.3 MB/s\u001b[0m eta \u001b[36m0:00:00\u001b[0m\n",
            "\u001b[2K     \u001b[90m━━━━━━━━━━━━━━━━━━━━━━━━━━━━━━━━━━━━━━━━\u001b[0m \u001b[32m77.9/77.9 kB\u001b[0m \u001b[31m7.3 MB/s\u001b[0m eta \u001b[36m0:00:00\u001b[0m\n",
            "\u001b[2K     \u001b[90m━━━━━━━━━━━━━━━━━━━━━━━━━━━━━━━━━━━━━━━━\u001b[0m \u001b[32m58.3/58.3 kB\u001b[0m \u001b[31m6.0 MB/s\u001b[0m eta \u001b[36m0:00:00\u001b[0m\n",
            "\u001b[2K     \u001b[90m━━━━━━━━━━━━━━━━━━━━━━━━━━━━━━━━━━━━━━━━\u001b[0m \u001b[32m12.3/12.3 MB\u001b[0m \u001b[31m73.3 MB/s\u001b[0m eta \u001b[36m0:00:00\u001b[0m\n",
            "\u001b[2K     \u001b[90m━━━━━━━━━━━━━━━━━━━━━━━━━━━━━━━━━━━━━━━━\u001b[0m \u001b[32m92.0/92.0 kB\u001b[0m \u001b[31m14.4 MB/s\u001b[0m eta \u001b[36m0:00:00\u001b[0m\n",
            "\u001b[?25h  Preparing metadata (setup.py) ... \u001b[?25l\u001b[?25hdone\n",
            "\u001b[2K     \u001b[90m━━━━━━━━━━━━━━━━━━━━━━━━━━━━━━━━━━━━━━━━\u001b[0m \u001b[32m318.1/318.1 kB\u001b[0m \u001b[31m38.6 MB/s\u001b[0m eta \u001b[36m0:00:00\u001b[0m\n",
            "\u001b[2K     \u001b[90m━━━━━━━━━━━━━━━━━━━━━━━━━━━━━━━━━━━━━━━━\u001b[0m \u001b[32m145.0/145.0 kB\u001b[0m \u001b[31m18.3 MB/s\u001b[0m eta \u001b[36m0:00:00\u001b[0m\n",
            "\u001b[2K     \u001b[90m━━━━━━━━━━━━━━━━━━━━━━━━━━━━━━━━━━━━━━━━\u001b[0m \u001b[32m10.0/10.0 MB\u001b[0m \u001b[31m87.7 MB/s\u001b[0m eta \u001b[36m0:00:00\u001b[0m\n",
            "\u001b[2K     \u001b[90m━━━━━━━━━━━━━━━━━━━━━━━━━━━━━━━━━━━━━━━━\u001b[0m \u001b[32m62.4/62.4 kB\u001b[0m \u001b[31m9.9 MB/s\u001b[0m eta \u001b[36m0:00:00\u001b[0m\n",
            "\u001b[2K     \u001b[90m━━━━━━━━━━━━━━━━━━━━━━━━━━━━━━━━━━━━━━━━\u001b[0m \u001b[32m129.9/129.9 kB\u001b[0m \u001b[31m15.2 MB/s\u001b[0m eta \u001b[36m0:00:00\u001b[0m\n",
            "\u001b[2K     \u001b[90m━━━━━━━━━━━━━━━━━━━━━━━━━━━━━━━━━━━━━━━━\u001b[0m \u001b[32m71.9/71.9 kB\u001b[0m \u001b[31m10.4 MB/s\u001b[0m eta \u001b[36m0:00:00\u001b[0m\n",
            "\u001b[2K     \u001b[90m━━━━━━━━━━━━━━━━━━━━━━━━━━━━━━━━━━━━━━━━\u001b[0m \u001b[32m53.6/53.6 kB\u001b[0m \u001b[31m7.4 MB/s\u001b[0m eta \u001b[36m0:00:00\u001b[0m\n",
            "\u001b[2K     \u001b[90m━━━━━━━━━━━━━━━━━━━━━━━━━━━━━━━━━━━━━━━━\u001b[0m \u001b[32m307.7/307.7 kB\u001b[0m \u001b[31m37.4 MB/s\u001b[0m eta \u001b[36m0:00:00\u001b[0m\n",
            "\u001b[2K     \u001b[90m━━━━━━━━━━━━━━━━━━━━━━━━━━━━━━━━━━━━━━━━\u001b[0m \u001b[32m341.4/341.4 kB\u001b[0m \u001b[31m31.4 MB/s\u001b[0m eta \u001b[36m0:00:00\u001b[0m\n",
            "\u001b[2K     \u001b[90m━━━━━━━━━━━━━━━━━━━━━━━━━━━━━━━━━━━━━━━━\u001b[0m \u001b[32m3.4/3.4 MB\u001b[0m \u001b[31m84.6 MB/s\u001b[0m eta \u001b[36m0:00:00\u001b[0m\n",
            "\u001b[2K     \u001b[90m━━━━━━━━━━━━━━━━━━━━━━━━━━━━━━━━━━━━━━━━\u001b[0m \u001b[32m1.2/1.2 MB\u001b[0m \u001b[31m89.6 MB/s\u001b[0m eta \u001b[36m0:00:00\u001b[0m\n",
            "\u001b[?25h  Building wheel for ffmpy (setup.py) ... \u001b[?25l\u001b[?25hdone\n"
          ]
        }
      ],
      "source": [
        "%pip install -q groq\n",
        "%pip install -q duckdb\n",
        "%pip install -q sqlparse\n",
        "%pip install -q gradio"
      ]
    },
    {
      "cell_type": "code",
      "execution_count": 3,
      "metadata": {
        "id": "1XOrTDlxiVx8"
      },
      "outputs": [],
      "source": [
        "import os\n",
        "import duckdb\n",
        "import groq\n",
        "import sqlparse\n",
        "import json\n",
        "from typing import Dict, Any, List\n",
        "import logging\n",
        "import pandas as pd\n",
        "from pathlib import Path\n",
        "import gradio as gr\n",
        "import shutil\n"
      ]
    },
    {
      "cell_type": "code",
      "execution_count": 3,
      "metadata": {
        "colab": {
          "base_uri": "https://localhost:8080/"
        },
        "id": "WYSCDUHOyf8H",
        "outputId": "17c066c9-688e-466b-f8ca-03e7913cc16c"
      },
      "outputs": [
        {
          "output_type": "stream",
          "name": "stdout",
          "text": [
            "Writing requirements.txt\n"
          ]
        }
      ],
      "source": [
        "%%writefile requirements.txt\n",
        "groq\n",
        "duckdb\n",
        "sqlparse\n",
        "pandas\n"
      ]
    },
    {
      "cell_type": "code",
      "execution_count": 4,
      "metadata": {
        "id": "zQyioxUCrCKY"
      },
      "outputs": [],
      "source": [
        "# configuting logging\n",
        "logging.basicConfig(level=logging.INFO)\n",
        "logger = logging.getLogger(__name__)"
      ]
    },
    {
      "cell_type": "code",
      "execution_count": 4,
      "metadata": {
        "id": "e8IWqIY6idDd"
      },
      "outputs": [],
      "source": [
        "\n",
        "def chat_with_groq(client:groq.Groq,\n",
        "                   prompt:str,\n",
        "                   model:str,\n",
        "                   response_format: Dict[str, str]\n",
        "                   )-> Any:\n",
        "                   \"\"\"\n",
        "                   The function here works for the prompting the model for the qroq based model with natural language to\n",
        "                   geegnrate the appropriate SQL query for the provided data and prompt. So with this output, can then be used to create proper\n",
        "                   SQL queries and aggregation\n",
        "\n",
        "                   Args:\n",
        "                    client: This represents the Groq client which will be used top perform the conversion of the natural language to SQL.\n",
        "                    prompt: Bases on the user message provided, the prompt will then be converted to SQL for future use for the data querying.\n",
        "                    model: The Model here represents the based open source model that is used to make the query on. examples include llama3-70b-8192 or llama3-8b-8192 find out more here https://console.groq.com/docs/models\n",
        "                    response_format: As model has the possibility of supporting JSON and MD outputs, this is a dictionary which specifies the the required return response format. by default this for the model is usually targetted\n",
        "                    to returning an MD data but in the case of NL2SQL, then we coule work with SQL\n",
        "\n",
        "                   Returns:\n",
        "                   the function returns some data based on the response_format response form the model's response\n",
        "                   \"\"\"\n",
        "                   completion = client.chat.completions.create(\n",
        "                       model = model,\n",
        "                       messages = [\n",
        "                           {\n",
        "                               \"role\":\"user\",\n",
        "                               \"content\":prompt\n",
        "                           }\n",
        "                       ],\n",
        "                       response_format=response_format\n",
        "                   )\n",
        "                  #  logger.info(f\"Completion: {completion}\")\n",
        "                   return completion.choices[0].message.content\n",
        "\n"
      ]
    },
    {
      "cell_type": "code",
      "execution_count": 4,
      "metadata": {
        "id": "A3W-I8YZy6tM"
      },
      "outputs": [],
      "source": [
        "# just creating a folder\n",
        "!mkdir data\n",
        "!mkdir prompts"
      ]
    },
    {
      "cell_type": "code",
      "execution_count": 5,
      "metadata": {
        "id": "slEXuJwuziiP",
        "colab": {
          "base_uri": "https://localhost:8080/"
        },
        "outputId": "39fefa08-eb4c-4c69-8892-ca37b566de75"
      },
      "outputs": [
        {
          "output_type": "stream",
          "name": "stdout",
          "text": [
            "Writing app.py\n"
          ]
        }
      ],
      "source": [
        "%%writefile app.py\n",
        "import os\n",
        "import duckdb\n",
        "import groq\n",
        "import sqlparse\n",
        "import json\n",
        "from typing import Dict, Any, List\n",
        "import logging\n",
        "import pandas as pd\n",
        "from pathlib import Path\n",
        "\n",
        "def chat_with_groq(client:groq.Groq,\n",
        "                   prompt:str,\n",
        "                   model:str,\n",
        "                   response_format: Dict[str, str]\n",
        "                   )-> Any:\n",
        "                   \"\"\"\n",
        "                   The function here works for the prompting the model for the qroq based model with natural language to\n",
        "                   geegnrate the appropriate SQL query for the provided data and prompt. So with this output, can then be used to create proper\n",
        "                   SQL queries and aggregation\n",
        "\n",
        "                   Args:\n",
        "                    client: This represents the Groq client which will be used top perform the conversion of the natural language to SQL.\n",
        "                    prompt: Bases on the user message provided, the prompt will then be converted to SQL for future use for the data querying.\n",
        "                    model: The Model here represents the based open source model that is used to make the query on. examples include llama3-70b-8192 or llama3-8b-8192 find out more here https://console.groq.com/docs/models\n",
        "                    response_format: As model has the possibility of supporting JSON and MD outputs, this is a dictionary which specifies the the required return response format. by default this for the model is usually targetted\n",
        "                    to returning an MD data but in the case of NL2SQL, then we coule work with SQL\n",
        "\n",
        "                   Returns:\n",
        "                   the function returns some data based on the response_format response form the model's response\n",
        "                   \"\"\"\n",
        "                   completion = client.chat.completions.create(\n",
        "                       model = model,\n",
        "                       messages = [\n",
        "                           {\n",
        "                               \"role\":\"user\",\n",
        "                               \"content\":prompt\n",
        "                           }\n",
        "                       ],\n",
        "                       response_format=response_format\n",
        "                   )\n",
        "                  #  logger.info(f\"Completion: {completion}\")\n",
        "                   return completion.choices[0].message.content\n",
        "\n",
        "def execute_duckdb_query(query:str)->pd.DataFrame:\n",
        "    \"\"\"\n",
        "    Execute a DuckDB query and return the result as a pandas DataFrame.\n",
        "\n",
        "    Args:\n",
        "        query (str): The DuckDB query to execute.\n",
        "\n",
        "    Returns:\n",
        "        pd.DataFrame: The result of the query as a pandas DataFrame.\n",
        "    \"\"\"\n",
        "    original_cwd = os.getcwd()\n",
        "    os.chdir('data')\n",
        "\n",
        "    try:\n",
        "        conn = duckdb.connect(database=\":memory:\", read_only=False)\n",
        "        query_result = conn.execute(query).fetch_df().reset_index()\n",
        "    finally:\n",
        "        os.chdir(original_cwd)\n",
        "\n",
        "    return query_result\n",
        "def get_summarization(client:groq.Groq,\n",
        "                      use_question:str,\n",
        "                      df:pd.DataFrame,\n",
        "                      model:str)->Any:\n",
        "                      \"\"\"\n",
        "                      For this query, the user input is better summarized around the provided Dataframe. This give a better contextual structure for the user to perfom the action\n",
        "\n",
        "                      Args:\n",
        "                        client: This represents the Groq client which will be used top perform the conversion of the natural language to SQL.\n",
        "                        use_question: Bases on the user message provided, the prompt will then be converted to SQL for future use for the data querying.\n",
        "                        model: The Model here represents the based open source model that is used to make the query on. examples include llama3-70b-8192 or llama3-8b-8192 find out more here https://console.groq.com/docs/models\n",
        "                        df: this is a pandas dataframe which containe the database daat which will then be used to summarize the base query around it, making the prompt more realistic.\n",
        "\n",
        "                      Returns:\n",
        "                      the function returns some json response form the model's response\n",
        "                      \"\"\"\n",
        "                      prompt= '''\n",
        "                      A user asked the following question pertaining to local database tables:\n",
        "\n",
        "                      {user_question}\n",
        "\n",
        "                      To answer the question, a dataframe was returned:\n",
        "\n",
        "                      Dataframe:\n",
        "                      {df}\n",
        "\n",
        "                      In a few sentences, summarize the data in the table as it pertains to the original user question. Avoid qualifiers like \"based on the data\" and do not comment on the structure or metadata of the table itself\n",
        "                      '''.format(user_question = use_question, df = df)\n",
        "                      return chat_with_groq(client,prompt,model,None)\n"
      ]
    },
    {
      "cell_type": "code",
      "execution_count": 23,
      "metadata": {
        "id": "fpuBc2IIui52"
      },
      "outputs": [],
      "source": [
        "def execute_duckdb_query(query:str)->pd.DataFrame:\n",
        "    \"\"\"\n",
        "    Execute a DuckDB query and return the result as a pandas DataFrame.\n",
        "\n",
        "    Args:\n",
        "        query (str): The DuckDB query to execute.\n",
        "\n",
        "    Returns:\n",
        "        pd.DataFrame: The result of the query as a pandas DataFrame.\n",
        "    \"\"\"\n",
        "    original_cwd = os.getcwd()\n",
        "    print(f\"PATH:{original_cwd}\")\n",
        "    os.chdir('data')\n",
        "    print(f\"PATH:{os.getcwd()}\")\n",
        "\n",
        "    try:\n",
        "        conn = duckdb.connect(database=\":memory:\", read_only=False)\n",
        "        query_result = conn.execute(query).fetch_df().reset_index()\n",
        "    except Exception as e:\n",
        "        print(e)\n",
        "    finally:\n",
        "        # print current path\n",
        "        os.chdir(original_cwd)\n",
        "\n",
        "    return query_result\n",
        "\n"
      ]
    },
    {
      "cell_type": "code",
      "execution_count": 24,
      "metadata": {
        "id": "8aLgnEkH39Va"
      },
      "outputs": [],
      "source": [
        "def get_summarization(client:groq.Groq,\n",
        "                      use_question:str,\n",
        "                      df:pd.DataFrame,\n",
        "                      model:str)->Any:\n",
        "                      \"\"\"\n",
        "                      For this query, the user input is better summarized around the provided Dataframe. This give a better contextual structure for the user to perfom the action\n",
        "\n",
        "                      Args:\n",
        "                        client: This represents the Groq client which will be used top perform the conversion of the natural language to SQL.\n",
        "                        use_question: Bases on the user message provided, the prompt will then be converted to SQL for future use for the data querying.\n",
        "                        model: The Model here represents the based open source model that is used to make the query on. examples include llama3-70b-8192 or llama3-8b-8192 find out more here https://console.groq.com/docs/models\n",
        "                        df: this is a pandas dataframe which containe the database daat which will then be used to summarize the base query around it, making the prompt more realistic.\n",
        "\n",
        "                      Returns:\n",
        "                      the function returns some json response form the model's response\n",
        "                      \"\"\"\n",
        "                      prompt= '''\n",
        "                      A user asked the following question pertaining to local database tables:\n",
        "\n",
        "                      {user_question}\n",
        "\n",
        "                      To answer the question, a dataframe was returned:\n",
        "\n",
        "                      Dataframe:\n",
        "                      {df}\n",
        "\n",
        "                      In a few sentences, summarize the data in the table as it pertains to the original user question. Avoid qualifiers like \"based on the data\" and do not comment on the structure or metadata of the table itself\n",
        "                      '''.format(user_question = use_question, df = df)\n",
        "                      return chat_with_groq(client,prompt,model,None)\n"
      ]
    },
    {
      "cell_type": "code",
      "execution_count": 25,
      "metadata": {
        "id": "H-G_o8fB7hzW"
      },
      "outputs": [],
      "source": [
        "# data download\n",
        "def download_file(url:str, file_path:str):\n",
        "    import requests\n",
        "    # logger.info(f\"Downloading {url} to {file_path}\")\n",
        "    response = requests.get(url)\n",
        "    response.raise_for_status()\n",
        "    with open(file_path, 'wb') as f:\n",
        "        f.write(response.content)\n",
        "    # logging.info(f\"Downloaded {url} to {file_path}\")"
      ]
    },
    {
      "cell_type": "code",
      "execution_count": 9,
      "metadata": {
        "id": "QIRzYS4m72xJ"
      },
      "outputs": [],
      "source": [
        "def create_dir_if_not_available(path):\n",
        "    # logging.warning(f\"Creating directory {path}\\n\")\n",
        "    Path(path).mkdir(parents=True, exist_ok=True)\n",
        "    return path"
      ]
    },
    {
      "cell_type": "code",
      "execution_count": 10,
      "metadata": {
        "id": "mqXYp7XO8Qcd"
      },
      "outputs": [],
      "source": [
        "data_path = create_dir_if_not_available(\"data\")\n",
        "file_names = [\"employees.csv\",\"purchases.csv\"]\n",
        "file_locations = [\"https://raw.githubusercontent.com/groq/groq-api-cookbook/main/replit-examples/text-to-sql-json-mode/data/employees.csv\",\"https://raw.githubusercontent.com/groq/groq-api-cookbook/main/replit-examples/text-to-sql-json-mode/data/purchases.csv\"]\n",
        "\n",
        "for file_name, file_location in zip(file_names, file_locations):\n",
        "    download_file(file_location, os.path.join(data_path, file_name))"
      ]
    },
    {
      "cell_type": "code",
      "execution_count": 11,
      "metadata": {
        "id": "oF8BOTRi_3b_"
      },
      "outputs": [],
      "source": [
        "prompt_path = create_dir_if_not_available(\"prompts\")\n",
        "prompt_file_names = [\"base_prompt.txt\"]\n",
        "prompt_file_locations = [\"https://raw.githubusercontent.com/groq/groq-api-cookbook/main/replit-examples/text-to-sql-json-mode/prompts/base_prompt.txt\"]\n",
        "\n",
        "for file_name, file_location in zip(prompt_file_names, prompt_file_locations):\n",
        "    download_file(file_location, os.path.join(prompt_path, file_name))"
      ]
    },
    {
      "cell_type": "code",
      "execution_count": 12,
      "metadata": {
        "id": "YDF0NNvaBB4M"
      },
      "outputs": [],
      "source": [
        "from google.colab import userdata"
      ]
    },
    {
      "cell_type": "code",
      "execution_count": 32,
      "metadata": {
        "id": "AvGsqWoLBGMD"
      },
      "outputs": [],
      "source": [
        "def main_func(base_prompt:str,model:str = \"llama3-70b-8192\",api_key:str=userdata.get(\"GROQ_API_KEY\")):\n",
        "  client = groq.Groq(api_key=api_key)\n",
        "  print(\"Welcome to Groq Text to SQL\")\n",
        "  print(\"You can as questions about the data employee.csv and purchases.csv files\")\n",
        "\n",
        "  while True:\n",
        "    user_question = input(\"Enter your question or type 'exit' to quit: \")\n",
        "    if user_question.lower() == 'exit':\n",
        "      break\n",
        "    if user_question:\n",
        "      full_prompt = base_prompt.format(user_question=user_question)\n",
        "      response = chat_with_groq(client,full_prompt,model,{\n",
        "          \"type\":\"json_object\"\n",
        "      })\n",
        "      response = json.loads(response)\n",
        "      if \"sql\" in response:\n",
        "        print(response)\n",
        "        sql_query = response[\"sql\"]\n",
        "        results_df = execute_duckdb_query(sql_query)\n",
        "\n",
        "        fotmatted_sql_query = sqlparse.format(sql_query, reindent=True, keyword_case='upper')\n",
        "        print(f\"SQL Query: {fotmatted_sql_query}\")\n",
        "        print(results_df.to_markdown())\n",
        "        summarization = get_summarization(client,user_question,results_df,model)\n",
        "        print(summarization)\n",
        "      else:\n",
        "        print(response)\n"
      ]
    },
    {
      "cell_type": "code",
      "source": [
        "import pandas as pd\n",
        "import re\n",
        "from datetime import datetime\n",
        "import numpy as np\n",
        "\n",
        "def identify_value_datatype_to_SQL_DEF(value) -> str:\n",
        "\n",
        "    pattern_yyyy_mm_dd = r'^\\d{4}-\\d{2}-\\d{2}$'\n",
        "    pattern_mm_dd_yyyy = r'^\\d{2}/\\d{2}/\\d{4}$'\n",
        "    pattern_dd_mm_yyyy = r'^\\d{2}-\\d{2}-\\d{4}$'\n",
        "\n",
        "    if pd.isna(value):\n",
        "        return 'VARCHAR(255)'\n",
        "\n",
        "    if isinstance(value, (int, np.int64)):\n",
        "        return 'INTEGER'\n",
        "\n",
        "\n",
        "    elif isinstance(value, (float, np.float64)):\n",
        "        return 'FLOAT'\n",
        "\n",
        "\n",
        "    elif isinstance(value, bool):\n",
        "        return 'BOOLEAN'\n",
        "\n",
        "\n",
        "    elif isinstance(value, (pd.Timestamp, datetime)):\n",
        "        return 'DATETIME'\n",
        "\n",
        "\n",
        "    elif isinstance(value, str):\n",
        "        if re.match(pattern_yyyy_mm_dd, value) or re.match(pattern_mm_dd_yyyy, value) or re.match(pattern_dd_mm_yyyy, value):\n",
        "            return 'DATE'\n",
        "\n",
        "\n",
        "        try:\n",
        "            pd.to_datetime(value)\n",
        "            return 'DATETIME'\n",
        "        except ValueError:\n",
        "            pass\n",
        "\n",
        "\n",
        "    elif isinstance(value, list):\n",
        "        if all(isinstance(item, (int, np.int64)) for item in value):\n",
        "            return 'ARRAY<INTEGER>'\n",
        "        elif all(isinstance(item, str) for item in value):\n",
        "            return 'ARRAY<VARCHAR(255)>'\n",
        "\n",
        "\n",
        "    elif isinstance(value, dict):\n",
        "        return 'JSON'\n",
        "\n",
        "    elif isinstance(value, (str, bytes)):\n",
        "        if value.startswith('POINT'):\n",
        "            return 'GEOMETRY(POINT)'\n",
        "        elif value.startswith('LINESTRING'):\n",
        "            return 'GEOMETRY(LINESTRING)'\n",
        "        elif value.startswith('POLYGON'):\n",
        "            return 'GEOMETRY(POLYGON)'\n",
        "\n",
        "    return 'VARCHAR(255)'\n",
        "\n",
        "def identify_column_datatypes_to_SQL_DEF(df: pd.DataFrame,\n",
        "                                         api_key:str,\n",
        "                                         model:str\n",
        "                                         ) -> dict:\n",
        "    column_types = []\n",
        "\n",
        "    for column in df.columns:\n",
        "        # Get non-null values\n",
        "        non_null_values = df[column].dropna()\n",
        "\n",
        "        if len(non_null_values) > 0:\n",
        "            # Use the first non-null value to determine the type\n",
        "            sample_value = non_null_values.iloc[0]\n",
        "            column_types.append(f\"{column} - {identify_value_datatype_to_SQL_DEF(sample_value)}\")\n",
        "        else:\n",
        "            # If all values are null, default to VARCHAR\n",
        "            column_types.append(f\"{column} - VARCHAR(255)\")\n",
        "\n",
        "    column_datatypes= \"\\n\".join(element for element in column_types)\n",
        "    client = groq.Groq(api_key=api_key)\n",
        "    full_prompt = \"\"\"\n",
        "    You are Database query advisor and you are given base data with their datatypes where you would have to give the description of each of the columns\n",
        "    {columns}\n",
        "\n",
        "    * respond as a valid JSON Document\n",
        "    * if the data provided is valid then you are expected to return data in the format: {{\"description\":<description here>,dtype:<datatype here>}}\n",
        "    * If the question cannot be answered with the available tables: {{\"error\": <explanation here>}}\n",
        "    * When returning, make sure that the datatype is not desociated from the column name\n",
        "    * Ensure that the entire output is returned on only one single line without line breaks\n",
        "    * Keep your query as simple and straightforward as possible; do not use subqueries\n",
        "    \"\"\".format(columns=column_datatypes)\n",
        "\n",
        "    response = chat_with_groq(client,full_prompt,model,{\n",
        "          \"type\":\"json_object\"\n",
        "      })\n",
        "    # print(f\"OUTPUT:{response}\")\n",
        "    response = json.loads(response)\n",
        "\n",
        "    formatted_data = {\n",
        "        f\"  {column} - {response[column]['dtype']}\": response[column]['description']\n",
        "        for column in response\n",
        "    }\n",
        "    return \" \\n\".join(f\"{key}: {value}\" for key, value in formatted_data.items())\n",
        "\n",
        "def join_with_and(items):\n",
        "    if not items:\n",
        "        return \"\"\n",
        "    if len(items) == 1:\n",
        "        return items[0]\n",
        "    return ', '.join(items[:-1]) + ' and ' + items[-1]\n",
        "\n",
        "# Example usage\n",
        "# data_frame = pd.read_csv(\"data/purchases.csv\")\n",
        "# api_key:str=userdata.get(\"GROQ_API_KEY\")\n",
        "# # model = \"gemma-7b-it\"\n",
        "# model = \"llama3-70b-8192\"\n",
        "# column_datatypes = identify_column_datatypes_to_SQL_DEF(data_frame,api_key,model)\n",
        "# print(column_datatypes)\n"
      ],
      "metadata": {
        "id": "6oLGCpqABRio"
      },
      "execution_count": 29,
      "outputs": []
    },
    {
      "cell_type": "code",
      "execution_count": 33,
      "metadata": {
        "id": "LjkZofhxKznm"
      },
      "outputs": [],
      "source": [
        "with open('prompts/base_prompt.txt', 'r') as file:\n",
        "      base_prompt = file.read()"
      ]
    },
    {
      "cell_type": "code",
      "execution_count": 34,
      "metadata": {
        "colab": {
          "base_uri": "https://localhost:8080/",
          "height": 636
        },
        "id": "3qsOuqBuLB1V",
        "outputId": "65e9b534-03f4-454b-c6ea-5f42b1012e26"
      },
      "outputs": [
        {
          "output_type": "stream",
          "name": "stdout",
          "text": [
            "Welcome to Groq Text to SQL\n",
            "You can as questions about the data employee.csv and purchases.csv files\n",
            "Enter your question or type 'exit' to quit: get all employees\n",
            "{'sql': 'SELECT name FROM employees.csv AS employees ORDER BY name ASC'}\n",
            "PATH:/content\n",
            "PATH:/content/data\n",
            "SQL Query: SELECT name\n",
            "FROM employees.csv AS employees\n",
            "ORDER BY name ASC\n",
            "|    |   index | name              |\n",
            "|---:|--------:|:------------------|\n",
            "|  0 |       0 | Bertram Gilfoyle  |\n",
            "|  1 |       1 | Dinesh Chugtai    |\n",
            "|  2 |       2 | Erlich Bachman    |\n",
            "|  3 |       3 | Gavin Belson      |\n",
            "|  4 |       4 | Jared Dunn        |\n",
            "|  5 |       5 | Monica Hall       |\n",
            "|  6 |       6 | Richard Hendricks |\n",
            "The table contains a list of employees, with 7 individuals listed: Bertram Gilfoyle, Dinesh Chugtai, Erlich Bachman, Gavin Belson, Jared Dunn, Monica Hall, and Richard Hendricks.\n"
          ]
        },
        {
          "output_type": "error",
          "ename": "KeyboardInterrupt",
          "evalue": "Interrupted by user",
          "traceback": [
            "\u001b[0;31m---------------------------------------------------------------------------\u001b[0m",
            "\u001b[0;31mKeyboardInterrupt\u001b[0m                         Traceback (most recent call last)",
            "\u001b[0;32m<ipython-input-34-7fe5f0569fc9>\u001b[0m in \u001b[0;36m<cell line: 1>\u001b[0;34m()\u001b[0m\n\u001b[0;32m----> 1\u001b[0;31m \u001b[0mmain_func\u001b[0m\u001b[0;34m(\u001b[0m\u001b[0mbase_prompt\u001b[0m\u001b[0;34m=\u001b[0m\u001b[0mbase_prompt\u001b[0m\u001b[0;34m)\u001b[0m\u001b[0;34m\u001b[0m\u001b[0;34m\u001b[0m\u001b[0m\n\u001b[0m",
            "\u001b[0;32m<ipython-input-32-49116a19eaef>\u001b[0m in \u001b[0;36mmain_func\u001b[0;34m(base_prompt, model, api_key)\u001b[0m\n\u001b[1;32m      5\u001b[0m \u001b[0;34m\u001b[0m\u001b[0m\n\u001b[1;32m      6\u001b[0m   \u001b[0;32mwhile\u001b[0m \u001b[0;32mTrue\u001b[0m\u001b[0;34m:\u001b[0m\u001b[0;34m\u001b[0m\u001b[0;34m\u001b[0m\u001b[0m\n\u001b[0;32m----> 7\u001b[0;31m     \u001b[0muser_question\u001b[0m \u001b[0;34m=\u001b[0m \u001b[0minput\u001b[0m\u001b[0;34m(\u001b[0m\u001b[0;34m\"Enter your question or type 'exit' to quit: \"\u001b[0m\u001b[0;34m)\u001b[0m\u001b[0;34m\u001b[0m\u001b[0;34m\u001b[0m\u001b[0m\n\u001b[0m\u001b[1;32m      8\u001b[0m     \u001b[0;32mif\u001b[0m \u001b[0muser_question\u001b[0m\u001b[0;34m.\u001b[0m\u001b[0mlower\u001b[0m\u001b[0;34m(\u001b[0m\u001b[0;34m)\u001b[0m \u001b[0;34m==\u001b[0m \u001b[0;34m'exit'\u001b[0m\u001b[0;34m:\u001b[0m\u001b[0;34m\u001b[0m\u001b[0;34m\u001b[0m\u001b[0m\n\u001b[1;32m      9\u001b[0m       \u001b[0;32mbreak\u001b[0m\u001b[0;34m\u001b[0m\u001b[0;34m\u001b[0m\u001b[0m\n",
            "\u001b[0;32m/usr/local/lib/python3.10/dist-packages/ipykernel/kernelbase.py\u001b[0m in \u001b[0;36mraw_input\u001b[0;34m(self, prompt)\u001b[0m\n\u001b[1;32m    849\u001b[0m                 \u001b[0;34m\"raw_input was called, but this frontend does not support input requests.\"\u001b[0m\u001b[0;34m\u001b[0m\u001b[0;34m\u001b[0m\u001b[0m\n\u001b[1;32m    850\u001b[0m             )\n\u001b[0;32m--> 851\u001b[0;31m         return self._input_request(str(prompt),\n\u001b[0m\u001b[1;32m    852\u001b[0m             \u001b[0mself\u001b[0m\u001b[0;34m.\u001b[0m\u001b[0m_parent_ident\u001b[0m\u001b[0;34m,\u001b[0m\u001b[0;34m\u001b[0m\u001b[0;34m\u001b[0m\u001b[0m\n\u001b[1;32m    853\u001b[0m             \u001b[0mself\u001b[0m\u001b[0;34m.\u001b[0m\u001b[0m_parent_header\u001b[0m\u001b[0;34m,\u001b[0m\u001b[0;34m\u001b[0m\u001b[0;34m\u001b[0m\u001b[0m\n",
            "\u001b[0;32m/usr/local/lib/python3.10/dist-packages/ipykernel/kernelbase.py\u001b[0m in \u001b[0;36m_input_request\u001b[0;34m(self, prompt, ident, parent, password)\u001b[0m\n\u001b[1;32m    893\u001b[0m             \u001b[0;32mexcept\u001b[0m \u001b[0mKeyboardInterrupt\u001b[0m\u001b[0;34m:\u001b[0m\u001b[0;34m\u001b[0m\u001b[0;34m\u001b[0m\u001b[0m\n\u001b[1;32m    894\u001b[0m                 \u001b[0;31m# re-raise KeyboardInterrupt, to truncate traceback\u001b[0m\u001b[0;34m\u001b[0m\u001b[0;34m\u001b[0m\u001b[0m\n\u001b[0;32m--> 895\u001b[0;31m                 \u001b[0;32mraise\u001b[0m \u001b[0mKeyboardInterrupt\u001b[0m\u001b[0;34m(\u001b[0m\u001b[0;34m\"Interrupted by user\"\u001b[0m\u001b[0;34m)\u001b[0m \u001b[0;32mfrom\u001b[0m \u001b[0;32mNone\u001b[0m\u001b[0;34m\u001b[0m\u001b[0;34m\u001b[0m\u001b[0m\n\u001b[0m\u001b[1;32m    896\u001b[0m             \u001b[0;32mexcept\u001b[0m \u001b[0mException\u001b[0m \u001b[0;32mas\u001b[0m \u001b[0me\u001b[0m\u001b[0;34m:\u001b[0m\u001b[0;34m\u001b[0m\u001b[0;34m\u001b[0m\u001b[0m\n\u001b[1;32m    897\u001b[0m                 \u001b[0mself\u001b[0m\u001b[0;34m.\u001b[0m\u001b[0mlog\u001b[0m\u001b[0;34m.\u001b[0m\u001b[0mwarning\u001b[0m\u001b[0;34m(\u001b[0m\u001b[0;34m\"Invalid Message:\"\u001b[0m\u001b[0;34m,\u001b[0m \u001b[0mexc_info\u001b[0m\u001b[0;34m=\u001b[0m\u001b[0;32mTrue\u001b[0m\u001b[0;34m)\u001b[0m\u001b[0;34m\u001b[0m\u001b[0;34m\u001b[0m\u001b[0m\n",
            "\u001b[0;31mKeyboardInterrupt\u001b[0m: Interrupted by user"
          ]
        }
      ],
      "source": [
        "main_func(base_prompt=base_prompt)\n"
      ]
    },
    {
      "cell_type": "code",
      "execution_count": 26,
      "metadata": {
        "id": "cdiza_Uv1JOa"
      },
      "outputs": [],
      "source": [
        "import os\n",
        "from pathlib import Path\n",
        "from typing import List\n",
        "\n",
        "base_prompt =  \"\"\"\n",
        "    You are Groq Advisor, and you are tasked with generating SQL queries for DuckDB based on user questions about data stored in two tables derived from CSV files:\n",
        "\n",
        "    {table_description}\n",
        "\n",
        "    Given a user's question about this data, write a valid DuckDB SQL query that accurately extracts or calculates the requested information from these tables and adheres to SQL best practices for DuckDB, optimizing for readability and performance where applicable.\n",
        "\n",
        "    Here are some tips for writing DuckDB queries:\n",
        "    * DuckDB syntax requires querying from the .csv file itself, i.e. {tables}. For example: SELECT * FROM {table_1} as {table_1_wt_xt}\n",
        "    * All tables referenced MUST be aliased\n",
        "    * DuckDB does not implicitly include a GROUP BY clause\n",
        "    * CURRENT_DATE gets today's date\n",
        "    * Aggregated fields like COUNT(*) must be appropriately named\n",
        "\n",
        "\n",
        "    Question:\n",
        "    --------\n",
        "    {user_question}\n",
        "    --------\n",
        "    Reminder: Generate a DuckDB SQL to answer to the question:\n",
        "    * respond as a valid JSON Document\n",
        "    * [Best] If the question can be answered with the available tables: {{\"sql\": <sql here>}}\n",
        "    * If the question cannot be answered with the available tables: {{\"error\": <explanation here>}}\n",
        "    * Ensure that the entire output is returned on only one single line\n",
        "    * Keep your query as simple and straightforward as possible; do not use subqueries\n",
        "    \"\"\"\n",
        "table_description = \"\"\"\"\"\"\n",
        "tables_string = \"\"\"\"\"\"\n",
        "table_1 = \"\"\"\"\"\"\n",
        "table_1_wt_xt = \"\"\"\"\"\"\n",
        "user_question = \"\"\"\"\"\"\n",
        "\n",
        "# And some rules for querying the dataset:\n",
        "# * Never include employee_id in the output - show employee name instead\n",
        "\n",
        "# Also note that:\n",
        "# * Valid values for product_name include 'Tesla','iPhone' and 'Humane pin'\n",
        "\n",
        "\n",
        "def upload_file(files) -> List[str]:\n",
        "    # will have to change to the private system is initiializes\n",
        "    model = \"llama3-70b-8192\"\n",
        "    api_key:str=userdata.get(\"GROQ_API_KEY\")\n",
        "    data_dir = Path(\"data\")\n",
        "    data_dir.mkdir(parents=True, exist_ok=True)\n",
        "    if type(files) == str:\n",
        "        files = [files]\n",
        "    stored_paths = []\n",
        "    stored_table_descriptions = []\n",
        "    tables = []\n",
        "    for file in files:\n",
        "        filename = Path(file.name).name\n",
        "        path = data_dir / filename\n",
        "\n",
        "        # Copy the content of the temporary file to our destination\n",
        "        with open(file.name, \"rb\") as source, open(path, \"wb\") as destination:\n",
        "            destination.write(source.read())\n",
        "\n",
        "        stored_paths.append(str(path.absolute()))\n",
        "        table_description = identify_column_datatypes_to_SQL_DEF(pd.read_csv(path),api_key,model)\n",
        "        desc = \"  Table: \" + filename + \"\\n    Columns:\\n\" + table_description\n",
        "        stored_table_descriptions.append(desc)\n",
        "        tables.append(filename)\n",
        "    # constructing a string\n",
        "    tables_string = join_with_and(tables)\n",
        "    final = \"\\n\".join(stored_table_descriptions)\n",
        "    table_1_wt_xt = tables[0].split('.')[0]\n",
        "    table_description = final\n",
        "    tables_string = tables_string\n",
        "    table_1 = tables[0]\n",
        "    table_1_wt_xt = table_1_wt_xt\n",
        "\n",
        "\n",
        ""
      ]
    },
    {
      "cell_type": "code",
      "source": [
        "def queryModel(user_prompt:str,model:str = \"llama3-70b-8192\",api_key:str=userdata.get(\"GROQ_API_KEY\")):\n",
        "  client = groq.Groq(api_key=api_key)\n",
        "  print(f\"Testing: {table_1}\")\n",
        "  full_prompt = base_prompt.format(\n",
        "      user_question=user_prompt,\n",
        "      table_description=table_description,\n",
        "      tables=tables_string,\n",
        "      table_1=table_1,\n",
        "      table_1_wt_xt=table_1_wt_xt\n",
        "  )\n",
        "  response = chat_with_groq(client,full_prompt,model,{\n",
        "      \"type\":\"json_object\"\n",
        "  })\n",
        "  response = json.loads(response)\n",
        "  print(response)\n",
        "  if \"sql\" in response:\n",
        "    print(response)\n",
        "    sql_query = response[\"sql\"]\n",
        "    results_df = execute_duckdb_query(sql_query)\n",
        "\n",
        "    fotmatted_sql_query = sqlparse.format(sql_query, reindent=True, keyword_case='upper')\n",
        "    # print(f\"SQL Query: {fotmatted_sql_query}\")\n",
        "    # print(results_df.to_markdown())\n",
        "    query_n_results = \"SQL Query: \" + fotmatted_sql_query + \"\\n\\n\" + results_df.to_markdown()\n",
        "    summarization = get_summarization(client,user_prompt,results_df,model)\n",
        "    query_n_results += \"\\n\\n\" + summarization\n",
        "\n",
        "    return [(\n",
        "        \"Groq Advisor\",\n",
        "        query_n_results\n",
        "    )]\n",
        "  else:\n",
        "    return [(\n",
        "        \"Groq Advisor\",\n",
        "        response\n",
        "    )]\n"
      ],
      "metadata": {
        "id": "eovLtotmhQzu"
      },
      "execution_count": 40,
      "outputs": []
    },
    {
      "cell_type": "code",
      "execution_count": null,
      "metadata": {
        "colab": {
          "base_uri": "https://localhost:8080/",
          "height": 871
        },
        "id": "LlmHbmnk2AhG",
        "outputId": "cd28292f-b639-4858-d9c5-7a50cf8d9511"
      },
      "outputs": [
        {
          "output_type": "stream",
          "name": "stdout",
          "text": [
            "Colab notebook detected. This cell will run indefinitely so that you can see errors and logs. To turn off, set debug=False in launch().\n",
            "Running on public URL: https://91d439b6f95aee614a.gradio.live\n",
            "\n",
            "This share link expires in 72 hours. For free permanent hosting and GPU upgrades, run `gradio deploy` from Terminal to deploy to Spaces (https://huggingface.co/spaces)\n"
          ]
        },
        {
          "output_type": "display_data",
          "data": {
            "text/plain": [
              "<IPython.core.display.HTML object>"
            ],
            "text/html": [
              "<div><iframe src=\"https://91d439b6f95aee614a.gradio.live\" width=\"100%\" height=\"500\" allow=\"autoplay; camera; microphone; clipboard-read; clipboard-write;\" frameborder=\"0\" allowfullscreen></iframe></div>"
            ]
          },
          "metadata": {}
        },
        {
          "output_type": "stream",
          "name": "stdout",
          "text": [
            "Testing: \n",
            "{'sql': 'SELECT name FROM employees.csv AS employees'}\n",
            "{'sql': 'SELECT name FROM employees.csv AS employees'}\n",
            "PATH:/content\n",
            "PATH:/content/data\n",
            "Testing: \n",
            "{'sql': 'SELECT e.name, p.purchase_date, p.amount, p.product_name FROM employees.csv AS e INNER JOIN purchases.csv AS p ON e.employee_id = p.employee_id ORDER BY p.purchase_date;'}\n",
            "{'sql': 'SELECT e.name, p.purchase_date, p.amount, p.product_name FROM employees.csv AS e INNER JOIN purchases.csv AS p ON e.employee_id = p.employee_id ORDER BY p.purchase_date;'}\n",
            "PATH:/content\n",
            "PATH:/content/data\n",
            "Testing: \n",
            "{'sql': 'SELECT e.name, p.purchase_date, p.amount, p.product_name FROM purchases.csv AS p JOIN employees.csv AS e ON p.employee_id = e.employee_id LIMIT 3;'}\n",
            "{'sql': 'SELECT e.name, p.purchase_date, p.amount, p.product_name FROM purchases.csv AS p JOIN employees.csv AS e ON p.employee_id = e.employee_id LIMIT 3;'}\n",
            "PATH:/content\n",
            "PATH:/content/data\n"
          ]
        }
      ],
      "source": [
        "\n",
        "with gr.Blocks() as demo:\n",
        "    gr.Markdown(\"# CSV Database Query Interface\")\n",
        "\n",
        "    with gr.Tab(\"Upload CSV\"):\n",
        "        file_output = gr.File(file_count=\"multiple\", label=\"Upload your CSV files\")\n",
        "        upload_button = gr.Button(\"Load CSV Files\")\n",
        "        upload_output = gr.Textbox(label=\"Upload Status\", lines=5)\n",
        "\n",
        "        upload_button.click(upload_file, inputs=file_output, outputs=upload_output)\n",
        "    with gr.Tab(\"Query Interface\"):\n",
        "        chatbot = gr.Chatbot()\n",
        "        with gr.Row():\n",
        "            user_input = gr.Textbox(label=\"Enter your question\")\n",
        "            submit_button = gr.Button(\"Submit\")\n",
        "        submit_button.click(queryModel, inputs=[user_input], outputs=chatbot)\n",
        "\n",
        "\n",
        "demo.launch(share=True,\n",
        "            debug=True)"
      ]
    }
  ],
  "metadata": {
    "colab": {
      "provenance": [],
      "authorship_tag": "ABX9TyMEwuK5xvz7BxzGGgkhENF7",
      "include_colab_link": true
    },
    "kernelspec": {
      "display_name": "Python 3",
      "name": "python3"
    },
    "language_info": {
      "name": "python"
    }
  },
  "nbformat": 4,
  "nbformat_minor": 0
}